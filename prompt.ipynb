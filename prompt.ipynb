{
 "cells": [
  {
   "cell_type": "code",
   "execution_count": 11,
   "metadata": {},
   "outputs": [
    {
     "data": {
      "text/plain": [
       "StringPromptValue(text=\"tell me a joke about {'dog'}\")"
      ]
     },
     "execution_count": 11,
     "metadata": {},
     "output_type": "execute_result"
    }
   ],
   "source": [
    "from langchain_core.prompts import PromptTemplate\n",
    "prompt_template = PromptTemplate.from_template(\"tell me a joke about {topic}\")\n",
    "prompt_template.invoke({\"dog\"})\n"
   ]
  },
  {
   "cell_type": "code",
   "execution_count": 12,
   "metadata": {},
   "outputs": [
    {
     "data": {
      "text/plain": [
       "ChatPromptValue(messages=[SystemMessage(content='you are a helpful assistant', additional_kwargs={}, response_metadata={}), HumanMessage(content='tell me joke about python', additional_kwargs={}, response_metadata={})])"
      ]
     },
     "execution_count": 12,
     "metadata": {},
     "output_type": "execute_result"
    }
   ],
   "source": [
    "from langchain_core.prompts import ChatPromptTemplate\n",
    "\n",
    "chatprompttemplate = ChatPromptTemplate([\n",
    "    (\"system\", \"you are a helpful assistant\"),\n",
    "    (\"user\", \"tell me joke about {topic}\")\n",
    "])\n",
    "\n",
    "chatprompttemplate.invoke(\"python\")\n"
   ]
  },
  {
   "cell_type": "code",
   "execution_count": 10,
   "metadata": {},
   "outputs": [
    {
     "data": {
      "text/plain": [
       "ChatPromptValue(messages=[HumanMessage(content='nihao,ais', additional_kwargs={}, response_metadata={}), AIMessage(content='wobuhao', additional_kwargs={}, response_metadata={})])"
      ]
     },
     "execution_count": 10,
     "metadata": {},
     "output_type": "execute_result"
    }
   ],
   "source": [
    "from langchain_core.prompts import ChatPromptTemplate\n",
    "\n",
    "template = ChatPromptTemplate([\n",
    "\n",
    "    (\"user\", \"nihao,{name}\"),\n",
    "    (\"ai\", \"wobuhao\")\n",
    "\n",
    "])\n",
    "template.invoke(\"ais\")"
   ]
  },
  {
   "cell_type": "code",
   "execution_count": 33,
   "metadata": {},
   "outputs": [
    {
     "data": {
      "text/plain": [
       "ChatPromptValue(messages=[SystemMessage(content='you are a helpful assistant'), HumanMessage(content='nihao'), AIMessage(content='wobuhao')])"
      ]
     },
     "execution_count": 33,
     "metadata": {},
     "output_type": "execute_result"
    }
   ],
   "source": [
    "from langchain_core.prompts import ChatPromptTemplate\n",
    "\n",
    "template = ChatPromptTemplate([\n",
    "    (\"system\", \"you are a helpful assistant\"),\n",
    "    (\"placeholder\", \"{conversion}\")\n",
    "])\n",
    "\n",
    "template.invoke({\n",
    "    \"conversion\":[\n",
    "        (\"human\", \"nihao\"),\n",
    "        (\"ai\", \"wobuhao\")\n",
    "\n",
    "    ]\n",
    "})"
   ]
  },
  {
   "cell_type": "code",
   "execution_count": 15,
   "metadata": {},
   "outputs": [
    {
     "data": {
      "text/plain": [
       "ChatPromptValue(messages=[SystemMessage(content='you are a helpful assistant', additional_kwargs={}, response_metadata={}), HumanMessage(content='hello', additional_kwargs={}, response_metadata={}), AIMessage(content='nihao', additional_kwargs={}, response_metadata={})])"
      ]
     },
     "execution_count": 15,
     "metadata": {},
     "output_type": "execute_result"
    }
   ],
   "source": [
    "from langchain_core.prompts import ChatPromptTemplate\n",
    "\n",
    "prompt = ChatPromptTemplate([\n",
    "    (\"system\", \"you are a helpful assistant\"),\n",
    "    (\"placeholder\", \"{conversation}\")\n",
    "])\n",
    "\n",
    "\n",
    "prompt.invoke({\n",
    "    \"conversation\":[\n",
    "        (\"human\", \"hello\"),\n",
    "        (\"ai\", \"nihao\")\n",
    "    ]  \n",
    "})"
   ]
  },
  {
   "cell_type": "code",
   "execution_count": 43,
   "metadata": {},
   "outputs": [
    {
     "data": {
      "text/plain": [
       "ChatPromptValue(messages=[SystemMessage(content='you are a helpful assistat'), HumanMessage(content='hi'), AIMessage(content='i am a human'), HumanMessage(content='how are you?')])"
      ]
     },
     "execution_count": 43,
     "metadata": {},
     "output_type": "execute_result"
    }
   ],
   "source": [
    "from langchain_core.prompts import ChatPromptTemplate, MessagesPlaceholder\n",
    "from langchain_core.messages import HumanMessage\n",
    "from langchain_core.messages import  AIMessage\n",
    "\n",
    "prompt_template = ChatPromptTemplate([\n",
    "    (\"system\", \"you are a helpful assistat\"),\n",
    "    MessagesPlaceholder(\"msggg\")\n",
    "])\n",
    "\n",
    "prompt_template.invoke(\n",
    "    {\"msggg\": \n",
    "     [\n",
    "        HumanMessage(\"hi\"), \n",
    "\n",
    "        AIMessage(\"i am a human\"),\n",
    "                HumanMessage(\"how are you?\")\n",
    "        ]\n",
    "      })"
   ]
  },
  {
   "cell_type": "code",
   "execution_count": 17,
   "metadata": {},
   "outputs": [
    {
     "data": {
      "text/plain": [
       "ChatPromptValue(messages=[HumanMessage(content='Hello', additional_kwargs={}, response_metadata={}), HumanMessage(content='Hi', additional_kwargs={}, response_metadata={}), AIMessage(content='Hello', additional_kwargs={}, response_metadata={})])"
      ]
     },
     "execution_count": 17,
     "metadata": {},
     "output_type": "execute_result"
    }
   ],
   "source": [
    "from langchain_core.prompts import ChatPromptTemplate\n",
    "from langchain_core.messages import HumanMessage, AIMessage\n",
    "from langchain_core.prompts import MessagesPlaceholder\n",
    "\n",
    "template = ChatPromptTemplate([\n",
    "    (\"human\", \"Hello\"),\n",
    "    MessagesPlaceholder(\"gkd\")\n",
    "])\n",
    "\n",
    "template.invoke({\n",
    "    \"gkd\": \n",
    "        [\n",
    "        HumanMessage(\"Hi\"),\n",
    "        AIMessage(\"Hello\")\n",
    "        ]\n",
    "    \n",
    "})"
   ]
  },
  {
   "cell_type": "code",
   "execution_count": 19,
   "metadata": {},
   "outputs": [],
   "source": [
    "import getpass\n",
    "import os\n",
    "\n",
    "os.environ[\"OPENAI_API_KEY\"] = getpass.getpass()"
   ]
  }
 ],
 "metadata": {
  "kernelspec": {
   "display_name": "agent",
   "language": "python",
   "name": "python3"
  },
  "language_info": {
   "codemirror_mode": {
    "name": "ipython",
    "version": 3
   },
   "file_extension": ".py",
   "mimetype": "text/x-python",
   "name": "python",
   "nbconvert_exporter": "python",
   "pygments_lexer": "ipython3",
   "version": "3.11.0"
  }
 },
 "nbformat": 4,
 "nbformat_minor": 2
}
