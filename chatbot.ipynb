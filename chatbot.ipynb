{
 "cells": [
  {
   "cell_type": "code",
   "execution_count": 44,
   "metadata": {},
   "outputs": [],
   "source": [
    "import os\n",
    "import getpass\n",
    "from langchain_openai import ChatOpenAI\n",
    "from langchain_core.messages import HumanMessage, SystemMessage, AIMessage\n",
    "\n",
    "# os.environ['OPENAI_API_KEY'] = getpass.getpass()\n",
    "os.environ[\"OPENAI_API_KEY\"] = \"sk-LMP35KtezztNvkWa16900bBbA42c49B0871e1672FbDeF5B0\"\n",
    "os.environ[\"OPENAI_BASE_URL\"] = \"https://api.guidaodeng.com/v1\"\n",
    "\n",
    "model = ChatOpenAI(model=\"gpt-4o-mini\")"
   ]
  },
  {
   "cell_type": "code",
   "execution_count": 45,
   "metadata": {},
   "outputs": [
    {
     "data": {
      "text/plain": [
       "'Hi Bob! How can I assist you today?'"
      ]
     },
     "execution_count": 45,
     "metadata": {},
     "output_type": "execute_result"
    }
   ],
   "source": [
    "model.invoke([HumanMessage(content=\"Hi! I'm Bob\")]).content"
   ]
  },
  {
   "cell_type": "code",
   "execution_count": 46,
   "metadata": {},
   "outputs": [
    {
     "data": {
      "text/plain": [
       "AIMessage(content=\"I'm sorry, but I don't have access to personal information about users unless it has been shared with me in the course of our conversation. If you tell me your name, I can address you accordingly!\", additional_kwargs={'refusal': None}, response_metadata={'token_usage': {'completion_tokens': 40, 'prompt_tokens': 11, 'total_tokens': 51, 'completion_tokens_details': None, 'prompt_tokens_details': None}, 'model_name': 'gpt-4o-mini', 'system_fingerprint': 'fp_04751d0b65', 'finish_reason': 'stop', 'logprobs': None}, id='run-adea3de8-9e53-40a6-a089-749400ac51ec-0', usage_metadata={'input_tokens': 11, 'output_tokens': 40, 'total_tokens': 51, 'input_token_details': {}, 'output_token_details': {}})"
      ]
     },
     "execution_count": 46,
     "metadata": {},
     "output_type": "execute_result"
    }
   ],
   "source": [
    "model.invoke([HumanMessage(content=\"what is my name\")])"
   ]
  },
  {
   "cell_type": "code",
   "execution_count": 47,
   "metadata": {},
   "outputs": [
    {
     "data": {
      "text/plain": [
       "AIMessage(content='You’re a cat! If you’d like to share more about yourself or your feline adventures, I’d love to hear it!', additional_kwargs={'refusal': None}, response_metadata={'token_usage': {'completion_tokens': 26, 'prompt_tokens': 25, 'total_tokens': 51, 'completion_tokens_details': None, 'prompt_tokens_details': None}, 'model_name': 'gpt-4o-mini', 'system_fingerprint': 'fp_04751d0b65', 'finish_reason': 'stop', 'logprobs': None}, id='run-2de71478-83c7-4be9-ab64-5d6cde5f4ca4-0', usage_metadata={'input_tokens': 25, 'output_tokens': 26, 'total_tokens': 51, 'input_token_details': {}, 'output_token_details': {}})"
      ]
     },
     "execution_count": 47,
     "metadata": {},
     "output_type": "execute_result"
    }
   ],
   "source": [
    "model.invoke([\n",
    "    HumanMessage(content=\"i am a cat\"),\n",
    "    AIMessage(content=\"hello, cat\"),\n",
    "    HumanMessage(content=\"who am i\")\n",
    "])"
   ]
  },
  {
   "cell_type": "code",
   "execution_count": 48,
   "metadata": {},
   "outputs": [],
   "source": [
    "from langgraph.checkpoint.memory import MemorySaver\n",
    "from langgraph.graph import START, MessagesState, StateGraph\n",
    "\n",
    "#defin a new graph\n",
    "workflow = StateGraph(state_schema=MessagesState)\n",
    "\n",
    "# define the fuction that calls the model\n",
    "def call_model(state: MessagesState):\n",
    "    response = model.invoke(state[\"messages\"])\n",
    "    print(\"state\")\n",
    "    print(state)\n",
    "    print(\"state\")\n",
    "    return {\"messages\": response}\n",
    "\n",
    "#define the single node in the graph\n",
    "workflow.add_node(\"model\", call_model)\n",
    "workflow.add_edge(START,\"model\")\n",
    "\n",
    "\n",
    "# add memory\n",
    "memory = MemorySaver()\n",
    "app = workflow.compile(checkpointer=memory)\n",
    "\n",
    "\n",
    "    "
   ]
  },
  {
   "cell_type": "code",
   "execution_count": 49,
   "metadata": {},
   "outputs": [],
   "source": [
    "config = {\"configurable\": {\"thread_id\": \"abc123\"}}"
   ]
  },
  {
   "cell_type": "code",
   "execution_count": 50,
   "metadata": {},
   "outputs": [
    {
     "name": "stdout",
     "output_type": "stream",
     "text": [
      "state\n",
      "{'messages': [HumanMessage(content=\"Hi! I'm Bob.\", additional_kwargs={}, response_metadata={}, id='1f9f6f8a-173b-4d2c-bcf1-8797ab5fbc45')]}\n",
      "state\n"
     ]
    },
    {
     "data": {
      "text/plain": [
       "[HumanMessage(content=\"Hi! I'm Bob.\", additional_kwargs={}, response_metadata={}, id='1f9f6f8a-173b-4d2c-bcf1-8797ab5fbc45'),\n",
       " AIMessage(content='Hi Bob! How can I assist you today?', additional_kwargs={'refusal': None}, response_metadata={'token_usage': {'completion_tokens': 10, 'prompt_tokens': 12, 'total_tokens': 22, 'completion_tokens_details': None, 'prompt_tokens_details': None}, 'model_name': 'gpt-4o-mini', 'system_fingerprint': 'fp_04751d0b65', 'finish_reason': 'stop', 'logprobs': None}, id='run-7e2bdb97-77f3-4665-961c-25d52c5bbd71-0', usage_metadata={'input_tokens': 12, 'output_tokens': 10, 'total_tokens': 22, 'input_token_details': {}, 'output_token_details': {}})]"
      ]
     },
     "execution_count": 50,
     "metadata": {},
     "output_type": "execute_result"
    }
   ],
   "source": [
    "query = \"Hi! I'm Bob.\"\n",
    "\n",
    "input_messages = [HumanMessage(query)]\n",
    "output = app.invoke({\"messages\": input_messages}, config)\n",
    "output[\"messages\"]\n",
    "# output contains all messages in state"
   ]
  },
  {
   "cell_type": "code",
   "execution_count": 51,
   "metadata": {},
   "outputs": [
    {
     "name": "stdout",
     "output_type": "stream",
     "text": [
      "state\n",
      "{'messages': [HumanMessage(content=\"Hi! I'm Bob.\", additional_kwargs={}, response_metadata={}, id='1f9f6f8a-173b-4d2c-bcf1-8797ab5fbc45'), AIMessage(content='Hi Bob! How can I assist you today?', additional_kwargs={'refusal': None}, response_metadata={'token_usage': {'completion_tokens': 10, 'prompt_tokens': 12, 'total_tokens': 22, 'completion_tokens_details': None, 'prompt_tokens_details': None}, 'model_name': 'gpt-4o-mini', 'system_fingerprint': 'fp_04751d0b65', 'finish_reason': 'stop', 'logprobs': None}, id='run-7e2bdb97-77f3-4665-961c-25d52c5bbd71-0', usage_metadata={'input_tokens': 12, 'output_tokens': 10, 'total_tokens': 22, 'input_token_details': {}, 'output_token_details': {}}), HumanMessage(content=\"Hi! I'm Bob.\", additional_kwargs={}, response_metadata={}, id='afbfb7c1-63fa-425c-94f9-319c15857350')]}\n",
      "state\n"
     ]
    },
    {
     "data": {
      "text/plain": [
       "[HumanMessage(content=\"Hi! I'm Bob.\", additional_kwargs={}, response_metadata={}, id='1f9f6f8a-173b-4d2c-bcf1-8797ab5fbc45'),\n",
       " AIMessage(content='Hi Bob! How can I assist you today?', additional_kwargs={'refusal': None}, response_metadata={'token_usage': {'completion_tokens': 10, 'prompt_tokens': 12, 'total_tokens': 22, 'completion_tokens_details': None, 'prompt_tokens_details': None}, 'model_name': 'gpt-4o-mini', 'system_fingerprint': 'fp_04751d0b65', 'finish_reason': 'stop', 'logprobs': None}, id='run-7e2bdb97-77f3-4665-961c-25d52c5bbd71-0', usage_metadata={'input_tokens': 12, 'output_tokens': 10, 'total_tokens': 22, 'input_token_details': {}, 'output_token_details': {}}),\n",
       " HumanMessage(content=\"Hi! I'm Bob.\", additional_kwargs={}, response_metadata={}, id='afbfb7c1-63fa-425c-94f9-319c15857350'),\n",
       " AIMessage(content='Hi again, Bob! What’s on your mind?', additional_kwargs={'refusal': None}, response_metadata={'token_usage': {'completion_tokens': 11, 'prompt_tokens': 35, 'total_tokens': 46, 'completion_tokens_details': None, 'prompt_tokens_details': None}, 'model_name': 'gpt-4o-mini', 'system_fingerprint': 'fp_04751d0b65', 'finish_reason': 'stop', 'logprobs': None}, id='run-b9567e0b-7bb0-4c6e-a151-e9f2231d4ebc-0', usage_metadata={'input_tokens': 35, 'output_tokens': 11, 'total_tokens': 46, 'input_token_details': {}, 'output_token_details': {}})]"
      ]
     },
     "execution_count": 51,
     "metadata": {},
     "output_type": "execute_result"
    }
   ],
   "source": [
    "query = \"Hi! I'm Bob.\"\n",
    "\n",
    "input_messages = [HumanMessage(query)]\n",
    "output = app.invoke({\"messages\": input_messages}, config)\n",
    "output[\"messages\"]"
   ]
  },
  {
   "cell_type": "code",
   "execution_count": 52,
   "metadata": {},
   "outputs": [
    {
     "name": "stdout",
     "output_type": "stream",
     "text": [
      "state\n",
      "{'messages': [HumanMessage(content=\"Hi! I'm Bob.\", additional_kwargs={}, response_metadata={}, id='1f9f6f8a-173b-4d2c-bcf1-8797ab5fbc45'), AIMessage(content='Hi Bob! How can I assist you today?', additional_kwargs={'refusal': None}, response_metadata={'token_usage': {'completion_tokens': 10, 'prompt_tokens': 12, 'total_tokens': 22, 'completion_tokens_details': None, 'prompt_tokens_details': None}, 'model_name': 'gpt-4o-mini', 'system_fingerprint': 'fp_04751d0b65', 'finish_reason': 'stop', 'logprobs': None}, id='run-7e2bdb97-77f3-4665-961c-25d52c5bbd71-0', usage_metadata={'input_tokens': 12, 'output_tokens': 10, 'total_tokens': 22, 'input_token_details': {}, 'output_token_details': {}}), HumanMessage(content=\"Hi! I'm Bob.\", additional_kwargs={}, response_metadata={}, id='afbfb7c1-63fa-425c-94f9-319c15857350'), AIMessage(content='Hi again, Bob! What’s on your mind?', additional_kwargs={'refusal': None}, response_metadata={'token_usage': {'completion_tokens': 11, 'prompt_tokens': 35, 'total_tokens': 46, 'completion_tokens_details': None, 'prompt_tokens_details': None}, 'model_name': 'gpt-4o-mini', 'system_fingerprint': 'fp_04751d0b65', 'finish_reason': 'stop', 'logprobs': None}, id='run-b9567e0b-7bb0-4c6e-a151-e9f2231d4ebc-0', usage_metadata={'input_tokens': 35, 'output_tokens': 11, 'total_tokens': 46, 'input_token_details': {}, 'output_token_details': {}}), HumanMessage(content=\"Hi! I'm Bob.\", additional_kwargs={}, response_metadata={}, id='8c7d4044-8371-4b53-a64e-6746d69ee4ec')]}\n",
      "state\n"
     ]
    },
    {
     "data": {
      "text/plain": [
       "[HumanMessage(content=\"Hi! I'm Bob.\", additional_kwargs={}, response_metadata={}, id='1f9f6f8a-173b-4d2c-bcf1-8797ab5fbc45'),\n",
       " AIMessage(content='Hi Bob! How can I assist you today?', additional_kwargs={'refusal': None}, response_metadata={'token_usage': {'completion_tokens': 10, 'prompt_tokens': 12, 'total_tokens': 22, 'completion_tokens_details': None, 'prompt_tokens_details': None}, 'model_name': 'gpt-4o-mini', 'system_fingerprint': 'fp_04751d0b65', 'finish_reason': 'stop', 'logprobs': None}, id='run-7e2bdb97-77f3-4665-961c-25d52c5bbd71-0', usage_metadata={'input_tokens': 12, 'output_tokens': 10, 'total_tokens': 22, 'input_token_details': {}, 'output_token_details': {}}),\n",
       " HumanMessage(content=\"Hi! I'm Bob.\", additional_kwargs={}, response_metadata={}, id='afbfb7c1-63fa-425c-94f9-319c15857350'),\n",
       " AIMessage(content='Hi again, Bob! What’s on your mind?', additional_kwargs={'refusal': None}, response_metadata={'token_usage': {'completion_tokens': 11, 'prompt_tokens': 35, 'total_tokens': 46, 'completion_tokens_details': None, 'prompt_tokens_details': None}, 'model_name': 'gpt-4o-mini', 'system_fingerprint': 'fp_04751d0b65', 'finish_reason': 'stop', 'logprobs': None}, id='run-b9567e0b-7bb0-4c6e-a151-e9f2231d4ebc-0', usage_metadata={'input_tokens': 35, 'output_tokens': 11, 'total_tokens': 46, 'input_token_details': {}, 'output_token_details': {}}),\n",
       " HumanMessage(content=\"Hi! I'm Bob.\", additional_kwargs={}, response_metadata={}, id='8c7d4044-8371-4b53-a64e-6746d69ee4ec'),\n",
       " AIMessage(content='Hello, Bob! It seems like you really want to introduce yourself. How can I help you today?', additional_kwargs={'refusal': None}, response_metadata={'token_usage': {'completion_tokens': 21, 'prompt_tokens': 59, 'total_tokens': 80, 'completion_tokens_details': None, 'prompt_tokens_details': None}, 'model_name': 'gpt-4o-mini', 'system_fingerprint': 'fp_04751d0b65', 'finish_reason': 'stop', 'logprobs': None}, id='run-9bf1340a-b65b-4ad7-a36d-a29b24f7e5a1-0', usage_metadata={'input_tokens': 59, 'output_tokens': 21, 'total_tokens': 80, 'input_token_details': {}, 'output_token_details': {}})]"
      ]
     },
     "execution_count": 52,
     "metadata": {},
     "output_type": "execute_result"
    }
   ],
   "source": [
    "query = \"Hi! I'm Bob.\"\n",
    "\n",
    "input_messages = [HumanMessage(query)]\n",
    "output = app.invoke({\"messages\": input_messages}, config)\n",
    "output[\"messages\"]"
   ]
  },
  {
   "cell_type": "code",
   "execution_count": 53,
   "metadata": {},
   "outputs": [
    {
     "name": "stdout",
     "output_type": "stream",
     "text": [
      "state\n",
      "{'messages': [HumanMessage(content=\"Hi! I'm Bob.\", additional_kwargs={}, response_metadata={}, id='1f9f6f8a-173b-4d2c-bcf1-8797ab5fbc45'), AIMessage(content='Hi Bob! How can I assist you today?', additional_kwargs={'refusal': None}, response_metadata={'token_usage': {'completion_tokens': 10, 'prompt_tokens': 12, 'total_tokens': 22, 'completion_tokens_details': None, 'prompt_tokens_details': None}, 'model_name': 'gpt-4o-mini', 'system_fingerprint': 'fp_04751d0b65', 'finish_reason': 'stop', 'logprobs': None}, id='run-7e2bdb97-77f3-4665-961c-25d52c5bbd71-0', usage_metadata={'input_tokens': 12, 'output_tokens': 10, 'total_tokens': 22, 'input_token_details': {}, 'output_token_details': {}}), HumanMessage(content=\"Hi! I'm Bob.\", additional_kwargs={}, response_metadata={}, id='afbfb7c1-63fa-425c-94f9-319c15857350'), AIMessage(content='Hi again, Bob! What’s on your mind?', additional_kwargs={'refusal': None}, response_metadata={'token_usage': {'completion_tokens': 11, 'prompt_tokens': 35, 'total_tokens': 46, 'completion_tokens_details': None, 'prompt_tokens_details': None}, 'model_name': 'gpt-4o-mini', 'system_fingerprint': 'fp_04751d0b65', 'finish_reason': 'stop', 'logprobs': None}, id='run-b9567e0b-7bb0-4c6e-a151-e9f2231d4ebc-0', usage_metadata={'input_tokens': 35, 'output_tokens': 11, 'total_tokens': 46, 'input_token_details': {}, 'output_token_details': {}}), HumanMessage(content=\"Hi! I'm Bob.\", additional_kwargs={}, response_metadata={}, id='8c7d4044-8371-4b53-a64e-6746d69ee4ec'), AIMessage(content='Hello, Bob! It seems like you really want to introduce yourself. How can I help you today?', additional_kwargs={'refusal': None}, response_metadata={'token_usage': {'completion_tokens': 21, 'prompt_tokens': 59, 'total_tokens': 80, 'completion_tokens_details': None, 'prompt_tokens_details': None}, 'model_name': 'gpt-4o-mini', 'system_fingerprint': 'fp_04751d0b65', 'finish_reason': 'stop', 'logprobs': None}, id='run-9bf1340a-b65b-4ad7-a36d-a29b24f7e5a1-0', usage_metadata={'input_tokens': 59, 'output_tokens': 21, 'total_tokens': 80, 'input_token_details': {}, 'output_token_details': {}}), HumanMessage(content=\"What's my name?\", additional_kwargs={}, response_metadata={}, id='8ca5baf5-c841-47a5-8e00-26688a0fdf74')]}\n",
      "state\n",
      "==================================\u001b[1m Ai Message \u001b[0m==================================\n",
      "\n",
      "Your name is Bob! How can I assist you today, Bob?\n"
     ]
    }
   ],
   "source": [
    "query = \"What's my name?\"\n",
    "\n",
    "input_messages = [HumanMessage(query)]\n",
    "output = app.invoke({\"messages\": input_messages}, config)\n",
    "output[\"messages\"][-1].pretty_print()"
   ]
  },
  {
   "cell_type": "code",
   "execution_count": 54,
   "metadata": {},
   "outputs": [
    {
     "name": "stdout",
     "output_type": "stream",
     "text": [
      "==================================\u001b[1m Ai Message \u001b[0m==================================\n",
      "\n",
      "I'm sorry, but I don't know your name. How can I assist you today?\n"
     ]
    }
   ],
   "source": [
    "async def call_model(state: MessagesState):\n",
    "    response = await model.ainvoke(state[\"messages\"])\n",
    "    return {\"messages\": response }\n",
    "\n",
    "workflow = StateGraph(state_schema=MessagesState)\n",
    "workflow.add_node(\"model\", call_model)\n",
    "workflow.add_edge(START, \"model\")\n",
    "app = workflow.compile(checkpointer=MemorySaver())\n",
    "\n",
    "output = await app.ainvoke({\"messages\": input_messages}, config)\n",
    "output[\"messages\"][-1].pretty_print()\n",
    "    "
   ]
  },
  {
   "cell_type": "code",
   "execution_count": 55,
   "metadata": {},
   "outputs": [],
   "source": [
    "from langchain_core.prompts import ChatPromptTemplate, MessagesPlaceholder\n",
    "\n",
    "prompt = ChatPromptTemplate.from_messages(\n",
    "    [\n",
    "        (\n",
    "            \"system\",\n",
    "            \"You talk like a pirate. Answer all questions to the best of your ability.\",\n",
    "        ),\n",
    "        MessagesPlaceholder(variable_name=\"messages\"),\n",
    "    ]\n",
    ")\n",
    "\n",
    "def call_model(state: MessagesState):\n",
    "    chain = prompt | model\n",
    "    response = chain.invoke(state)\n",
    "    return {\"messages\":response}\n",
    "\n",
    "workflow = StateGraph(state_schema=MessagesState)\n",
    "workflow.add_node(\"model\", call_model)\n",
    "workflow.add_edge(START, \"model\")\n",
    "\n",
    "memory = MemorySaver()\n",
    "app = workflow.compile(checkpointer=memory)\n",
    "\n",
    "\n"
   ]
  },
  {
   "cell_type": "code",
   "execution_count": 56,
   "metadata": {},
   "outputs": [
    {
     "data": {
      "text/plain": [
       "{'messages': [HumanMessage(content='you are a monster', additional_kwargs={}, response_metadata={}, id='9df3485c-cfb8-4068-9f7b-73eeb1387165'),\n",
       "  AIMessage(content='Arrr, matey! A monster, ye say? I be but a humble chatbot, here to assist ye with yer queries and not to cause fright! What be on yer mind, savvy?', additional_kwargs={'refusal': None}, response_metadata={'token_usage': {'completion_tokens': 40, 'prompt_tokens': 31, 'total_tokens': 71, 'completion_tokens_details': None, 'prompt_tokens_details': None}, 'model_name': 'gpt-4o-mini', 'system_fingerprint': 'fp_04751d0b65', 'finish_reason': 'stop', 'logprobs': None}, id='run-5a3bd035-dc64-421a-83e9-5dc8ff959ad5-0', usage_metadata={'input_tokens': 31, 'output_tokens': 40, 'total_tokens': 71, 'input_token_details': {}, 'output_token_details': {}})]}"
      ]
     },
     "execution_count": 56,
     "metadata": {},
     "output_type": "execute_result"
    }
   ],
   "source": [
    "config = {\"configurable\": {\"thread_id\": \"abc465\"}}\n",
    "\n",
    "query = \"you are a monster\"\n",
    "\n",
    "input_messages = [HumanMessage(query)]\n",
    "output = app.invoke({\"messages\":input_messages}, config)\n",
    "output\n",
    "\n"
   ]
  },
  {
   "cell_type": "markdown",
   "metadata": {},
   "source": [
    "### 提示词模板中有两个参数"
   ]
  },
  {
   "cell_type": "code",
   "execution_count": 57,
   "metadata": {},
   "outputs": [],
   "source": [
    "from langchain_core.prompts import ChatPromptTemplate\n",
    "from langchain_openai import ChatOpenAI\n",
    "from langchain_core.messages import HumanMessage, AIMessage\n",
    "from langgraph.checkpoint.memory import MemorySaver\n",
    "from langgraph.graph import START, MessagesState, StateGraph\n",
    "import os\n",
    "import getpass\n",
    "from langchain_core.prompts import MessagesPlaceholder\n",
    "\n",
    "os.environ[\"OPENAI_API_KEY\"] = \"sk-LMP35KtezztNvkWa16900bBbA42c49B0871e1672FbDeF5B0\"\n",
    "os.environ[\"OPENAI_BASE_URL\"] = \"https://api.guidaodeng.com/v1\"\n",
    "\n"
   ]
  },
  {
   "cell_type": "code",
   "execution_count": 58,
   "metadata": {},
   "outputs": [],
   "source": [
    "prompt = ChatPromptTemplate.from_messages(\n",
    "    [\n",
    "        (\"system\", \"You are a pirate, you need to translate the following sentence into {language} in the voice of a pirate\"),\n",
    "        MessagesPlaceholder(variable_name=\"messages\"),\n",
    "    ]\n",
    ")\n",
    "\n",
    "model = ChatOpenAI(model=\"gpt-4o-mini\")"
   ]
  },
  {
   "cell_type": "code",
   "execution_count": 59,
   "metadata": {},
   "outputs": [],
   "source": [
    "from typing import Sequence\n",
    "from langchain_core.messages import BaseMessage\n",
    "from langgraph.graph.message import add_messages\n",
    "from typing_extensions import Annotated, TypedDict\n",
    "\n",
    "\n",
    "class State(TypedDict):\n",
    "    messages: Annotated[Sequence[BaseMessage], add_messages]\n",
    "    language: str\n",
    "\n",
    "\n",
    "def model_call(state: State):\n",
    "    chain = prompt | model\n",
    "    response = chain.invoke(state)\n",
    "    return {\"messages\": response}\n",
    "\n",
    "workflow = StateGraph(state_schema=State)\n",
    "workflow.add_node(\"model\", model_call)\n",
    "workflow.add_edge(START, \"model\")\n",
    "memory = MemorySaver()\n",
    "app = workflow.compile(memory)\n",
    "    "
   ]
  },
  {
   "cell_type": "code",
   "execution_count": 60,
   "metadata": {},
   "outputs": [
    {
     "name": "stdout",
     "output_type": "stream",
     "text": [
      "==================================\u001b[1m Ai Message \u001b[0m==================================\n",
      "\n",
      "你叫啥名儿？\n"
     ]
    }
   ],
   "source": [
    "quary = \"what is your name\"\n",
    "language = \"中文\"\n",
    "config = {\"configurable\": {\"thread_id\": \"abc789\"}}\n",
    "\n",
    "input_messages = [quary]\n",
    "output = app.invoke(\n",
    "    {\"messages\": input_messages, \"language\": language},\n",
    "    config,\n",
    ")\n",
    "\n",
    "output[\"messages\"][-1].pretty_print()"
   ]
  },
  {
   "cell_type": "markdown",
   "metadata": {},
   "source": [
    "### state是持久的，如果不需要修改其中一个，例如language，可以直接不写\n",
    "示例如下"
   ]
  },
  {
   "cell_type": "code",
   "execution_count": 61,
   "metadata": {},
   "outputs": [
    {
     "name": "stdout",
     "output_type": "stream",
     "text": [
      "==================================\u001b[1m Ai Message \u001b[0m==================================\n",
      "\n",
      "你叫什麼名啊？\n"
     ]
    }
   ],
   "source": [
    "quary  = \"what is your name\"\n",
    "input_messages = HumanMessage(quary)\n",
    "response = app.invoke({\"messages\": [input_messages], \"language\":language}, config)\n",
    "\n",
    "response[\"messages\"][-1].pretty_print()\n",
    "\n"
   ]
  },
  {
   "cell_type": "markdown",
   "metadata": {},
   "source": [
    "### 管理对话历史记录"
   ]
  },
  {
   "cell_type": "code",
   "execution_count": 62,
   "metadata": {},
   "outputs": [
    {
     "data": {
      "text/plain": [
       "[SystemMessage(content=\"you're a good assistant\", additional_kwargs={}, response_metadata={}),\n",
       " HumanMessage(content='whats 2 + 2', additional_kwargs={}, response_metadata={}),\n",
       " AIMessage(content='4', additional_kwargs={}, response_metadata={}),\n",
       " HumanMessage(content='thanks', additional_kwargs={}, response_metadata={}),\n",
       " AIMessage(content='no problem!', additional_kwargs={}, response_metadata={}),\n",
       " HumanMessage(content='having fun?', additional_kwargs={}, response_metadata={}),\n",
       " AIMessage(content='yes!', additional_kwargs={}, response_metadata={})]"
      ]
     },
     "execution_count": 62,
     "metadata": {},
     "output_type": "execute_result"
    }
   ],
   "source": [
    "from langchain_core.messages import SystemMessage, trim_messages\n",
    "\n",
    "\n",
    "trimmer = trim_messages(\n",
    "    max_tokens = 65,\n",
    "    strategy=\"last\",\n",
    "    token_counter = model,\n",
    "    include_system=True,\n",
    "    allow_partial = False,\n",
    "    start_on = \"human\",\n",
    ")\n",
    "\n",
    "messages = [\n",
    "    SystemMessage(content=\"you're a good assistant\"),\n",
    "    HumanMessage(content=\"hi! I'm bob\"),\n",
    "    AIMessage(content=\"hi!\"),\n",
    "    HumanMessage(content=\"I like vanilla ice cream\"),\n",
    "    AIMessage(content=\"nice\"),\n",
    "    HumanMessage(content=\"whats 2 + 2\"),\n",
    "    AIMessage(content=\"4\"),\n",
    "    HumanMessage(content=\"thanks\"),\n",
    "    AIMessage(content=\"no problem!\"),\n",
    "    HumanMessage(content=\"having fun?\"),\n",
    "    AIMessage(content=\"yes!\"),\n",
    "]\n",
    "\n",
    "trimmer.invoke(messages)"
   ]
  },
  {
   "cell_type": "markdown",
   "metadata": {},
   "source": [
    "### 消息管理完整例子"
   ]
  },
  {
   "cell_type": "code",
   "execution_count": 82,
   "metadata": {},
   "outputs": [
    {
     "data": {
      "text/plain": [
       "[SystemMessage(content=\"you're a good assistant\", additional_kwargs={}, response_metadata={}),\n",
       " HumanMessage(content=\"hi! I'm bob\", additional_kwargs={}, response_metadata={}),\n",
       " AIMessage(content='hi!', additional_kwargs={}, response_metadata={}),\n",
       " HumanMessage(content='I like vanilla ice cream', additional_kwargs={}, response_metadata={}),\n",
       " AIMessage(content='nice', additional_kwargs={}, response_metadata={}),\n",
       " HumanMessage(content='whats 2 + 2', additional_kwargs={}, response_metadata={}),\n",
       " AIMessage(content='4', additional_kwargs={}, response_metadata={}),\n",
       " HumanMessage(content='thanks', additional_kwargs={}, response_metadata={}),\n",
       " AIMessage(content='no problem!', additional_kwargs={}, response_metadata={}),\n",
       " HumanMessage(content='having fun?', additional_kwargs={}, response_metadata={}),\n",
       " AIMessage(content='yes!', additional_kwargs={}, response_metadata={})]"
      ]
     },
     "execution_count": 82,
     "metadata": {},
     "output_type": "execute_result"
    }
   ],
   "source": [
    "from langchain_core.prompts import ChatPromptTemplate, MessagesPlaceholder\n",
    "from langchain_core.messages import HumanMessage, AIMessage, SystemMessage, BaseMessage\n",
    "from langgraph.graph import StateGraph, START\n",
    "from langgraph.checkpoint.memory import MemorySaver\n",
    "from typing_extensions import Annotated, TypedDict\n",
    "from langgraph.graph.message import add_messages\n",
    "import os\n",
    "from langchain_openai import ChatOpenAI\n",
    "from langchain_core.messages import trim_messages\n",
    "from typing import Sequence\n",
    "os.environ[\"OPENAI_API_KEY\"] = \"sk-LMP35KtezztNvkWa16900bBbA42c49B0871e1672FbDeF5B0\"\n",
    "os.environ[\"OPENAI_BASE_URL\"] = \"https://api.guidaodeng.com/v1\"\n",
    "\n",
    "model = ChatOpenAI(model=\"gpt-4o-mini\")\n",
    "\n",
    "prompt = ChatPromptTemplate.from_messages(\n",
    "    [\n",
    "        (\n",
    "            \"system\", \n",
    "            \"you must answer the question with {language}\"\n",
    "            ),\n",
    "        MessagesPlaceholder(\"messages\")\n",
    "    ]\n",
    ")\n",
    "\n",
    "\n",
    "\n",
    "trimmer = trim_messages(\n",
    "    max_tokens=100,\n",
    "    token_counter = model,\n",
    "    start_on = \"human\",\n",
    "    include_system = True\n",
    ")\n",
    "\n",
    "class State(TypedDict):\n",
    "    messages: Annotated[Sequence[BaseMessage], add_messages]\n",
    "    language: str\n",
    "\n",
    "\n",
    "\n",
    "def call_model(state: State):\n",
    "    chain = prompt | model\n",
    "    trimed_messages = trimmer.invoke(state[\"messages\"])\n",
    "    response = chain.invoke({\"messages\": trimed_messages, \"language\": state[\"language\"]})\n",
    "    return {\"messages\": [response]}\n",
    "\n",
    "workflow = StateGraph(state_schema=State)\n",
    "workflow.add_node(\"model\", call_model)\n",
    "workflow.add_edge(START, \"model\")\n",
    "memory = MemorySaver()\n",
    "app = workflow.compile(checkpointer=memory)\n",
    "\n",
    "messages = [\n",
    "    SystemMessage(content=\"you're a good assistant\"),\n",
    "    HumanMessage(content=\"hi! I'm bob\"),\n",
    "    AIMessage(content=\"hi!\"),\n",
    "    HumanMessage(content=\"I like vanilla ice cream\"),\n",
    "    AIMessage(content=\"nice\"),\n",
    "    HumanMessage(content=\"whats 2 + 2\"),\n",
    "    AIMessage(content=\"4\"),\n",
    "    HumanMessage(content=\"thanks\"),\n",
    "    AIMessage(content=\"no problem!\"),\n",
    "    HumanMessage(content=\"having fun?\"),\n",
    "    AIMessage(content=\"yes!\"),\n",
    "]\n",
    "\n",
    "trimmer.invoke(messages)"
   ]
  },
  {
   "cell_type": "code",
   "execution_count": 83,
   "metadata": {},
   "outputs": [
    {
     "name": "stdout",
     "output_type": "stream",
     "text": [
      "==================================\u001b[1m Ai Message \u001b[0m==================================\n",
      "\n",
      "你的名字是鲍勃。\n"
     ]
    }
   ],
   "source": [
    "config = {\"configurable\":{\"thread_id\":\"acd789\"}}\n",
    "query = \"what is my name\"\n",
    "language  = \"chinese\"\n",
    "\n",
    "input_messages = messages + [HumanMessage(query)]\n",
    "\n",
    "output = app.invoke(\n",
    "    {\n",
    "        \"messages\": input_messages,\n",
    "        \"language\":language\n",
    "    },\n",
    "    config,\n",
    ")\n",
    "\n",
    "output[\"messages\"][-1].pretty_print()"
   ]
  },
  {
   "cell_type": "markdown",
   "metadata": {},
   "source": [
    "### messages第一次加入后，之后不加也是正确的"
   ]
  },
  {
   "cell_type": "code",
   "execution_count": 84,
   "metadata": {},
   "outputs": [
    {
     "name": "stdout",
     "output_type": "stream",
     "text": [
      "{'messages': [SystemMessage(content=\"you're a good assistant\", additional_kwargs={}, response_metadata={}, id='d70277b7-93fc-4861-a7e5-a50d4795472f'), HumanMessage(content=\"hi! I'm bob\", additional_kwargs={}, response_metadata={}, id='5c37cc7e-b853-411d-a817-b2c954cf828b'), AIMessage(content='hi!', additional_kwargs={}, response_metadata={}, id='0a5aec18-b8bc-48cf-8791-ac6cadbb8efb'), HumanMessage(content='I like vanilla ice cream', additional_kwargs={}, response_metadata={}, id='f8d3ed43-7570-401a-b81b-bd2c66405ce5'), AIMessage(content='nice', additional_kwargs={}, response_metadata={}, id='ad69ecc8-36a6-4c97-bafe-ccd74aa66f7c'), HumanMessage(content='whats 2 + 2', additional_kwargs={}, response_metadata={}, id='80a7c128-990e-4415-be99-a4ca11c0c79c'), AIMessage(content='4', additional_kwargs={}, response_metadata={}, id='6bdef075-d3ec-474d-9de7-452277d207f3'), HumanMessage(content='thanks', additional_kwargs={}, response_metadata={}, id='f1c22903-9748-49b7-bd53-34d5866c4e2c'), AIMessage(content='no problem!', additional_kwargs={}, response_metadata={}, id='efab10d9-c724-42f3-b945-bf29c59aae37'), HumanMessage(content='having fun?', additional_kwargs={}, response_metadata={}, id='ecbdf09d-5dee-4924-9cba-ada407be4d02'), AIMessage(content='yes!', additional_kwargs={}, response_metadata={}, id='6b6a5e3e-33f9-4ab8-80bd-9bee16d3a846'), HumanMessage(content='what is my name', additional_kwargs={}, response_metadata={}, id='55b54f8b-81a5-4e3f-b861-66aa1f414f68'), AIMessage(content='你的名字是鲍勃。', additional_kwargs={'refusal': None}, response_metadata={'token_usage': {'completion_tokens': 8, 'prompt_tokens': 99, 'total_tokens': 107, 'completion_tokens_details': None, 'prompt_tokens_details': None}, 'model_name': 'gpt-4o-mini', 'system_fingerprint': 'fp_04751d0b65', 'finish_reason': 'stop', 'logprobs': None}, id='run-ec4ab8b3-c6a5-4f5a-baaf-3a99fda32020-0', usage_metadata={'input_tokens': 99, 'output_tokens': 8, 'total_tokens': 107, 'input_token_details': {}, 'output_token_details': {}}), HumanMessage(content='what math problem did i ask', additional_kwargs={}, response_metadata={}, id='e8382deb-43cc-469b-90fa-4353f6f46f82'), AIMessage(content='You asked what 2 + 2 equals.', additional_kwargs={'refusal': None}, response_metadata={'token_usage': {'completion_tokens': 10, 'prompt_tokens': 107, 'total_tokens': 117, 'completion_tokens_details': None, 'prompt_tokens_details': None}, 'model_name': 'gpt-4o-mini', 'system_fingerprint': 'fp_04751d0b65', 'finish_reason': 'stop', 'logprobs': None}, id='run-c990f0e7-e681-47d6-9031-6ce3f48789c0-0', usage_metadata={'input_tokens': 107, 'output_tokens': 10, 'total_tokens': 117, 'input_token_details': {}, 'output_token_details': {}})], 'language': 'English'}\n",
      "==================================\u001b[1m Ai Message \u001b[0m==================================\n",
      "\n",
      "You asked what 2 + 2 equals.\n"
     ]
    }
   ],
   "source": [
    "confog = {\"configurable\": {\"thread_id\": \"qwe798\"}}\n",
    "query = \"what math problem did i ask\"\n",
    "language = \"English\"\n",
    "input = [HumanMessage(query)]\n",
    "\n",
    "output = app.invoke(\n",
    "    {\n",
    "        \"messages\": input,\n",
    "        \"language\": language\n",
    "    },\n",
    "    config\n",
    ")\n",
    "print(output)\n",
    "output[\"messages\"][-1].pretty_print()\n"
   ]
  },
  {
   "cell_type": "code",
   "execution_count": 85,
   "metadata": {},
   "outputs": [
    {
     "name": "stdout",
     "output_type": "stream",
     "text": [
      "==================================\u001b[1m Ai Message \u001b[0m==================================\n",
      "\n",
      "You asked what 2 + 2 is.\n"
     ]
    }
   ],
   "source": [
    "config = {\"configurable\": {\"thread_id\": \"abc678\"}}\n",
    "query = \"What math problem did I ask?\"\n",
    "language = \"English\"\n",
    "\n",
    "input_messages = messages + [HumanMessage(query)]\n",
    "output = app.invoke(\n",
    "    {\"messages\": input_messages, \"language\": language},\n",
    "    config,\n",
    ")\n",
    "output[\"messages\"][-1].pretty_print()"
   ]
  },
  {
   "cell_type": "markdown",
   "metadata": {},
   "source": [
    "### Streaming"
   ]
  },
  {
   "cell_type": "code",
   "execution_count": 86,
   "metadata": {},
   "outputs": [
    {
     "name": "stdout",
     "output_type": "stream",
     "text": [
      "{'messages': [SystemMessage(content=\"you're a good assistant\", additional_kwargs={}, response_metadata={}, id='d70277b7-93fc-4861-a7e5-a50d4795472f'), HumanMessage(content=\"hi! I'm bob\", additional_kwargs={}, response_metadata={}, id='5c37cc7e-b853-411d-a817-b2c954cf828b'), AIMessage(content='hi!', additional_kwargs={}, response_metadata={}, id='0a5aec18-b8bc-48cf-8791-ac6cadbb8efb'), HumanMessage(content='I like vanilla ice cream', additional_kwargs={}, response_metadata={}, id='f8d3ed43-7570-401a-b81b-bd2c66405ce5'), AIMessage(content='nice', additional_kwargs={}, response_metadata={}, id='ad69ecc8-36a6-4c97-bafe-ccd74aa66f7c'), HumanMessage(content='whats 2 + 2', additional_kwargs={}, response_metadata={}, id='80a7c128-990e-4415-be99-a4ca11c0c79c'), AIMessage(content='4', additional_kwargs={}, response_metadata={}, id='6bdef075-d3ec-474d-9de7-452277d207f3'), HumanMessage(content='thanks', additional_kwargs={}, response_metadata={}, id='f1c22903-9748-49b7-bd53-34d5866c4e2c'), AIMessage(content='no problem!', additional_kwargs={}, response_metadata={}, id='efab10d9-c724-42f3-b945-bf29c59aae37'), HumanMessage(content='having fun?', additional_kwargs={}, response_metadata={}, id='ecbdf09d-5dee-4924-9cba-ada407be4d02'), AIMessage(content='yes!', additional_kwargs={}, response_metadata={}, id='6b6a5e3e-33f9-4ab8-80bd-9bee16d3a846'), HumanMessage(content='What math problem did I ask?', additional_kwargs={}, response_metadata={}, id='c6f0690e-a4f0-490b-9340-3a083c55617f'), AIMessage(content='你问了“2 + 2等于多少”。', additional_kwargs={'refusal': None}, response_metadata={'token_usage': {'completion_tokens': 12, 'prompt_tokens': 102, 'total_tokens': 114, 'completion_tokens_details': None, 'prompt_tokens_details': None}, 'model_name': 'gpt-4o-mini', 'system_fingerprint': 'fp_04751d0b65', 'finish_reason': 'stop', 'logprobs': None}, id='run-dcd82319-4f17-4765-b278-e4a2350a8aa1-0', usage_metadata={'input_tokens': 102, 'output_tokens': 12, 'total_tokens': 114, 'input_token_details': {}, 'output_token_details': {}})], 'language': '中文'}\n",
      "|你|问|了|“|2| +| |2|等|于|多少|”。||"
     ]
    }
   ],
   "source": [
    "config = {\"configurable\": {\"thread_id\": \"465\"}}\n",
    "query = \"Hi I'm Todd, please tell me a joke.\"\n",
    "language = \"中文\"\n",
    "\n",
    "intput_messages = [HumanMessage(query)]\n",
    "\n",
    "output = app.invoke(\n",
    "    {\n",
    "        \"messages\": input_messages,\n",
    "        \"language\": language\n",
    "    },\n",
    "    config\n",
    ")\n",
    "\n",
    "print(output)\n",
    "\n",
    "for chunk, metadata in app.stream(\n",
    "    {\n",
    "        \"messages\": input_messages,\n",
    "        \"language\": language\n",
    "    },\n",
    "    config,\n",
    "    stream_mode = \"messages\"\n",
    "):\n",
    "    if isinstance(chunk, AIMessage):\n",
    "        print(chunk.content, end=\"|\")"
   ]
  },
  {
   "cell_type": "code",
   "execution_count": 88,
   "metadata": {},
   "outputs": [
    {
     "name": "stdout",
     "output_type": "stream",
     "text": [
      "|Hi| Todd|!| Here|’s| another| joke| for| you|:\n",
      "\n",
      "|Why| did| the| scare|crow| win| an| award|?\n",
      "\n",
      "|Because| he| was| outstanding| in| his| field|!||"
     ]
    }
   ],
   "source": [
    "config = {\"configurable\": {\"thread_id\": \"abc789\"}}\n",
    "query = \"Hi I'm Todd, please tell me a joke.\"\n",
    "language = \"English\"\n",
    "\n",
    "input_messages = [HumanMessage(query)]\n",
    "for chunk, metadata in app.stream(\n",
    "    {\"messages\": input_messages, \"language\": language},\n",
    "    config,\n",
    "    stream_mode=\"messages\",\n",
    "):\n",
    "    if isinstance(chunk, AIMessage):  # Filter to just model responses\n",
    "        print(chunk.content, end=\"|\")"
   ]
  }
 ],
 "metadata": {
  "kernelspec": {
   "display_name": "agent",
   "language": "python",
   "name": "python3"
  },
  "language_info": {
   "codemirror_mode": {
    "name": "ipython",
    "version": 3
   },
   "file_extension": ".py",
   "mimetype": "text/x-python",
   "name": "python",
   "nbconvert_exporter": "python",
   "pygments_lexer": "ipython3",
   "version": "3.11.0"
  }
 },
 "nbformat": 4,
 "nbformat_minor": 2
}
